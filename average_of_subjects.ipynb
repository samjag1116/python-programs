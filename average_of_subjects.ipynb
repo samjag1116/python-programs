{
  "nbformat": 4,
  "nbformat_minor": 0,
  "metadata": {
    "colab": {
      "name": "average_of_subjects.ipynb",
      "provenance": [],
      "authorship_tag": "ABX9TyNqk6vM/7km8rL6sTXQf2Wr",
      "include_colab_link": true
    },
    "kernelspec": {
      "name": "python3",
      "display_name": "Python 3"
    }
  },
  "cells": [
    {
      "cell_type": "markdown",
      "metadata": {
        "id": "view-in-github",
        "colab_type": "text"
      },
      "source": [
        "<a href=\"https://colab.research.google.com/github/samjag1116/python-programs/blob/master/average_of_subjects.ipynb\" target=\"_parent\"><img src=\"https://colab.research.google.com/assets/colab-badge.svg\" alt=\"Open In Colab\"/></a>"
      ]
    },
    {
      "cell_type": "markdown",
      "metadata": {
        "id": "PToEfKfnKJBW",
        "colab_type": "text"
      },
      "source": [
        "a simple python program to display the average of populated marks entry "
      ]
    },
    {
      "cell_type": "code",
      "metadata": {
        "id": "v48MGnd0KcBG",
        "colab_type": "code",
        "colab": {
          "base_uri": "https://localhost:8080/",
          "height": 255
        },
        "outputId": "fc411965-ea7a-4268-95a6-a510996f8cd2"
      },
      "source": [
        "x = input(\"enter the number of subjects = \")\n",
        "x = int(x)\n",
        "total = 0\n",
        "for i in range(x):\n",
        "    print(\"entr\",i,\"th subject marks\")\n",
        "    m = input(\"enter the mark = \")\n",
        "    m = int(m)\n",
        "    total = total + m\n",
        "average = total/x\n",
        "print(\"the average marks of all subjects = \",average)"
      ],
      "execution_count": 1,
      "outputs": [
        {
          "output_type": "stream",
          "text": [
            "enter the number of subjects = 6\n",
            "entr 0 th subject marks\n",
            "enter the mark = 65\n",
            "entr 1 th subject marks\n",
            "enter the mark = 62\n",
            "entr 2 th subject marks\n",
            "enter the mark = 35\n",
            "entr 3 th subject marks\n",
            "enter the mark = 78\n",
            "entr 4 th subject marks\n",
            "enter the mark = 90\n",
            "entr 5 th subject marks\n",
            "enter the mark = 100\n",
            "the average marks of all subjects =  71.66666666666667\n"
          ],
          "name": "stdout"
        }
      ]
    }
  ]
}