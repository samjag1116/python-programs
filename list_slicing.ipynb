{
  "nbformat": 4,
  "nbformat_minor": 0,
  "metadata": {
    "colab": {
      "name": "list_slicing.ipynb",
      "provenance": [],
      "authorship_tag": "ABX9TyNj2CVKEGza0tw80VTv7ecU",
      "include_colab_link": true
    },
    "kernelspec": {
      "name": "python3",
      "display_name": "Python 3"
    }
  },
  "cells": [
    {
      "cell_type": "markdown",
      "metadata": {
        "id": "view-in-github",
        "colab_type": "text"
      },
      "source": [
        "<a href=\"https://colab.research.google.com/github/samjag1116/python-programs/blob/master/list_slicing.ipynb\" target=\"_parent\"><img src=\"https://colab.research.google.com/assets/colab-badge.svg\" alt=\"Open In Colab\"/></a>"
      ]
    },
    {
      "cell_type": "code",
      "metadata": {
        "id": "l8o36QFPGgrq",
        "colab_type": "code",
        "colab": {
          "base_uri": "https://localhost:8080/",
          "height": 139
        },
        "outputId": "01a8009e-1898-48d9-b8b8-7d528d88b26d"
      },
      "source": [
        "# List Slicing\n",
        "# create a list of numbers from 1 to 50 named list_1\n",
        "# The numbers should be present in the increasing order: \n",
        "# Example: list_1 = [1,2,3,4,5,....,50]\n",
        "# Given an input of two numbers, let's say a and b, \n",
        "# you have to print the numbers returned by the following command\n",
        "# list_1[a:b] \n",
        "# output should print the sliced number in the range a and b \n",
        "# example: a = 2, b = 6 then the output must be: 3,4,5,6\n",
        "s1 = input(\"enter a starting number = \")\n",
        "s2 = input(\"enter an ending number = \")\n",
        "s1 = int(s1)\n",
        "s2 = int(s2)\n",
        "t = []\n",
        "for i in range(s1,s2):\n",
        "    t.append(i)\n",
        "print(t)\n",
        "a = input(\"enter a starting number to split the arraay = \")\n",
        "b = input(\"enter an ending number to split the arraay = \")\n",
        "a = int(a)\n",
        "b = int(b)\n",
        "split_array = t[a:b]\n",
        "print(split_array)\n",
        "\n",
        "#             print(\"the split array = \",split_array)\n",
        "# if (a>b):\n",
        "#     if(s1 <= a and a <= s2):\n",
        "#         if(s1 <= b and b <= s2):\n",
        "#             split_array = t[a:b]\n",
        "#             print(\"the split array = \",split_array)\n",
        "# else:\n",
        "#     print(\"the given inputs are out the indices of the original array\")"
      ],
      "execution_count": 1,
      "outputs": [
        {
          "output_type": "stream",
          "text": [
            "enter a starting number = 1\n",
            "enter an ending number = 100\n",
            "[1, 2, 3, 4, 5, 6, 7, 8, 9, 10, 11, 12, 13, 14, 15, 16, 17, 18, 19, 20, 21, 22, 23, 24, 25, 26, 27, 28, 29, 30, 31, 32, 33, 34, 35, 36, 37, 38, 39, 40, 41, 42, 43, 44, 45, 46, 47, 48, 49, 50, 51, 52, 53, 54, 55, 56, 57, 58, 59, 60, 61, 62, 63, 64, 65, 66, 67, 68, 69, 70, 71, 72, 73, 74, 75, 76, 77, 78, 79, 80, 81, 82, 83, 84, 85, 86, 87, 88, 89, 90, 91, 92, 93, 94, 95, 96, 97, 98, 99]\n",
            "enter a starting number to split the arraay = 2\n",
            "enter an ending number to split the arraay = 40\n",
            "[3, 4, 5, 6, 7, 8, 9, 10, 11, 12, 13, 14, 15, 16, 17, 18, 19, 20, 21, 22, 23, 24, 25, 26, 27, 28, 29, 30, 31, 32, 33, 34, 35, 36, 37, 38, 39, 40]\n"
          ],
          "name": "stdout"
        }
      ]
    }
  ]
}