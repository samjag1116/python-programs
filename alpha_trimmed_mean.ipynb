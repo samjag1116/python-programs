{
  "nbformat": 4,
  "nbformat_minor": 0,
  "metadata": {
    "colab": {
      "name": "Untitled6.ipynb",
      "provenance": [],
      "collapsed_sections": [],
      "authorship_tag": "ABX9TyNNYc4Lc+y9i2ajJY2Nv6L6",
      "include_colab_link": true
    },
    "kernelspec": {
      "name": "python3",
      "display_name": "Python 3"
    }
  },
  "cells": [
    {
      "cell_type": "markdown",
      "metadata": {
        "id": "view-in-github",
        "colab_type": "text"
      },
      "source": [
        "<a href=\"https://colab.research.google.com/github/samjag1116/python-programs/blob/master/alpha_trimmed_mean.ipynb\" target=\"_parent\"><img src=\"https://colab.research.google.com/assets/colab-badge.svg\" alt=\"Open In Colab\"/></a>"
      ]
    },
    {
      "cell_type": "code",
      "metadata": {
        "id": "hB4ZG32GoM6m",
        "colab_type": "code",
        "colab": {}
      },
      "source": [
        "#program on alpha-trimmed mean"
      ],
      "execution_count": 16,
      "outputs": []
    },
    {
      "cell_type": "code",
      "metadata": {
        "id": "Tg7XKzMSp93U",
        "colab_type": "code",
        "colab": {}
      },
      "source": [
        "import time"
      ],
      "execution_count": 17,
      "outputs": []
    },
    {
      "cell_type": "code",
      "metadata": {
        "id": "JYKVfz5mqA6T",
        "colab_type": "code",
        "colab": {}
      },
      "source": [
        "t0 = time.clock()"
      ],
      "execution_count": 18,
      "outputs": []
    },
    {
      "cell_type": "code",
      "metadata": {
        "id": "5-u2jOZHpHJi",
        "colab_type": "code",
        "colab": {}
      },
      "source": [
        "from statistics import mean"
      ],
      "execution_count": 19,
      "outputs": []
    },
    {
      "cell_type": "code",
      "metadata": {
        "id": "1ylOaKvIoc72",
        "colab_type": "code",
        "colab": {
          "base_uri": "https://localhost:8080/",
          "height": 54
        },
        "outputId": "bbb55388-af96-4d62-cf5c-4d4e04fb9ffb"
      },
      "source": [
        "import random\n",
        "a = []\n",
        "for i in range(50):\n",
        "  k = random.randint(1,100)\n",
        "  a.append(k)\n",
        "print(a)"
      ],
      "execution_count": 20,
      "outputs": [
        {
          "output_type": "stream",
          "text": [
            "[94, 41, 26, 40, 80, 35, 93, 66, 2, 15, 74, 63, 41, 10, 54, 36, 53, 98, 56, 67, 15, 42, 41, 12, 89, 30, 77, 89, 63, 87, 45, 33, 14, 59, 10, 100, 3, 83, 42, 7, 38, 20, 70, 92, 53, 71, 66, 23, 31, 33]\n"
          ],
          "name": "stdout"
        }
      ]
    },
    {
      "cell_type": "code",
      "metadata": {
        "id": "_6eZIxVupA-4",
        "colab_type": "code",
        "colab": {
          "base_uri": "https://localhost:8080/",
          "height": 54
        },
        "outputId": "f23e5480-0319-40d1-8a22-d815889d6b14"
      },
      "source": [
        "a.sort()\n",
        "print(a)"
      ],
      "execution_count": 21,
      "outputs": [
        {
          "output_type": "stream",
          "text": [
            "[2, 3, 7, 10, 10, 12, 14, 15, 15, 20, 23, 26, 30, 31, 33, 33, 35, 36, 38, 40, 41, 41, 41, 42, 42, 45, 53, 53, 54, 56, 59, 63, 63, 66, 66, 67, 70, 71, 74, 77, 80, 83, 87, 89, 89, 92, 93, 94, 98, 100]\n"
          ],
          "name": "stdout"
        }
      ]
    },
    {
      "cell_type": "code",
      "metadata": {
        "id": "QzUd8KLopSgC",
        "colab_type": "code",
        "colab": {
          "base_uri": "https://localhost:8080/",
          "height": 34
        },
        "outputId": "6d9ec754-814e-4532-d82f-b3b30199c85b"
      },
      "source": [
        "a_trimmed = a[5:45]\n",
        "print(a_trimmed)"
      ],
      "execution_count": 22,
      "outputs": [
        {
          "output_type": "stream",
          "text": [
            "[12, 14, 15, 15, 20, 23, 26, 30, 31, 33, 33, 35, 36, 38, 40, 41, 41, 41, 42, 42, 45, 53, 53, 54, 56, 59, 63, 63, 66, 66, 67, 70, 71, 74, 77, 80, 83, 87, 89, 89]\n"
          ],
          "name": "stdout"
        }
      ]
    },
    {
      "cell_type": "code",
      "metadata": {
        "id": "kWq-SIXHpw-1",
        "colab_type": "code",
        "colab": {
          "base_uri": "https://localhost:8080/",
          "height": 34
        },
        "outputId": "78a9eb86-3b59-4c58-890c-567b9c428ff5"
      },
      "source": [
        "a_avg = mean(a_trimmed)\n",
        "print(a_avg)"
      ],
      "execution_count": 23,
      "outputs": [
        {
          "output_type": "stream",
          "text": [
            "49.325\n"
          ],
          "name": "stdout"
        }
      ]
    },
    {
      "cell_type": "code",
      "metadata": {
        "id": "Pj_rgN73qFIL",
        "colab_type": "code",
        "colab": {
          "base_uri": "https://localhost:8080/",
          "height": 34
        },
        "outputId": "bde32330-a93b-436e-e681-1f7f16c1381c"
      },
      "source": [
        "t1 = time.clock() - t0\n",
        "print(\"the time taken to perform this program is = \", t1)"
      ],
      "execution_count": 24,
      "outputs": [
        {
          "output_type": "stream",
          "text": [
            "the time taken to perform this program is =  0.03619899999999987\n"
          ],
          "name": "stdout"
        }
      ]
    }
  ]
}