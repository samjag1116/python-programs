{
  "nbformat": 4,
  "nbformat_minor": 0,
  "metadata": {
    "colab": {
      "name": "divisibility_count.ipynb",
      "provenance": [],
      "authorship_tag": "ABX9TyOBTQEahIH29AcUS3Mmz/F+",
      "include_colab_link": true
    },
    "kernelspec": {
      "name": "python3",
      "display_name": "Python 3"
    }
  },
  "cells": [
    {
      "cell_type": "markdown",
      "metadata": {
        "id": "view-in-github",
        "colab_type": "text"
      },
      "source": [
        "<a href=\"https://colab.research.google.com/github/samjag1116/python-programs/blob/master/divisibility_count.ipynb\" target=\"_parent\"><img src=\"https://colab.research.google.com/assets/colab-badge.svg\" alt=\"Open In Colab\"/></a>"
      ]
    },
    {
      "cell_type": "code",
      "metadata": {
        "id": "y4l9eSJRED8B",
        "colab_type": "code",
        "colab": {
          "base_uri": "https://localhost:8080/",
          "height": 207
        },
        "outputId": "70ced720-935d-4bd5-80c7-941cf9f7a9d4"
      },
      "source": [
        "# -*- coding: utf-8 -*-\n",
        "\"\"\"\n",
        "Created on Tue Aug  4 15:37:02 2020\n",
        "\n",
        "@author: Jagadeesh\n",
        "\"\"\"\n",
        "import time\n",
        "s1 = input(\"enter a starting number = \")\n",
        "s2 = input(\"enter an ending number = \")\n",
        "t0 = time.time()\n",
        "s1 = int(s1)\n",
        "s2 = int(s2)\n",
        "t = []\n",
        "for i in range(s1,s2):\n",
        "    t.append(i)\n",
        "print(t)\n",
        "t1 = time.time()-t0\n",
        "a = input(\"enter any number from the array = \")\n",
        "t2 = time.time()\n",
        "a = int(a)\n",
        "cnt = 0\n",
        "for i in range(s1,s2):\n",
        "    if(i%a == 0):\n",
        "        print(\"the number\",i,\"divisibile by\",a)\n",
        "        cnt = cnt+1\n",
        "print(\"the total number of numbers dividible by\",a,\"= \",cnt)\n",
        "t3 = time.time() - t2\n",
        "t4 = t1+t3\n",
        "print(\"the time required to run this program = \",t4)"
      ],
      "execution_count": 2,
      "outputs": [
        {
          "output_type": "stream",
          "text": [
            "enter a starting number = 1\n",
            "enter an ending number = 100\n",
            "[1, 2, 3, 4, 5, 6, 7, 8, 9, 10, 11, 12, 13, 14, 15, 16, 17, 18, 19, 20, 21, 22, 23, 24, 25, 26, 27, 28, 29, 30, 31, 32, 33, 34, 35, 36, 37, 38, 39, 40, 41, 42, 43, 44, 45, 46, 47, 48, 49, 50, 51, 52, 53, 54, 55, 56, 57, 58, 59, 60, 61, 62, 63, 64, 65, 66, 67, 68, 69, 70, 71, 72, 73, 74, 75, 76, 77, 78, 79, 80, 81, 82, 83, 84, 85, 86, 87, 88, 89, 90, 91, 92, 93, 94, 95, 96, 97, 98, 99]\n",
            "enter any number from the array = 20\n",
            "the number 20 divisibile by 20\n",
            "the number 40 divisibile by 20\n",
            "the number 60 divisibile by 20\n",
            "the number 80 divisibile by 20\n",
            "the total number of numbers dividible by 20 =  4\n",
            "the time required to run this program =  0.0017676353454589844\n"
          ],
          "name": "stdout"
        }
      ]
    }
  ]
}