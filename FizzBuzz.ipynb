{
  "nbformat": 4,
  "nbformat_minor": 0,
  "metadata": {
    "colab": {
      "name": "FizzBuzz.ipynb",
      "provenance": [],
      "collapsed_sections": [],
      "authorship_tag": "ABX9TyMiifsa0NbRNpQt+9hXFbbG",
      "include_colab_link": true
    },
    "kernelspec": {
      "name": "python3",
      "display_name": "Python 3"
    }
  },
  "cells": [
    {
      "cell_type": "markdown",
      "metadata": {
        "id": "view-in-github",
        "colab_type": "text"
      },
      "source": [
        "<a href=\"https://colab.research.google.com/github/samjag1116/python-programs/blob/master/FizzBuzz.ipynb\" target=\"_parent\"><img src=\"https://colab.research.google.com/assets/colab-badge.svg\" alt=\"Open In Colab\"/></a>"
      ]
    },
    {
      "cell_type": "markdown",
      "metadata": {
        "id": "AFD2RJd_5E62",
        "colab_type": "text"
      },
      "source": [
        "Python Program on \"FizzBuzz\" Game\n",
        "the Game goes  like this:\n",
        "1. a group of people will gather \n",
        "2. one member will start from any number.  ex: starting with: 1\n",
        "3. a number divided by 3 should be uttered as Fizz. Ex: 3, 6, 9.. should be uttered as Fizz\n",
        "4. a number divided by 5 should be uttered as Buzz. Ex: 5,10,15... should be uttered as Buzz\n",
        "5. and if a number is divided by both 3 and 5 should be uttered as FizzBuzz. Ex: 15, 30.. should be uttered as FizzBuzz\n",
        "6. now, the game will be like: '1', '2', 'Fizz', '4', 'Buzz', 'Fizz', '7', '8', 'Fizz', 'Buzz', '11', 'Fizz', '13', '14', 'FizzBuzz'..... goes on"
      ]
    },
    {
      "cell_type": "code",
      "metadata": {
        "id": "43L4r7-W6R4-",
        "colab_type": "code",
        "colab": {
          "base_uri": "https://localhost:8080/",
          "height": 850
        },
        "outputId": "b04128e0-0691-44d1-c8d9-5db466700ebd"
      },
      "source": [
        "#Python code on FizzBuzz\n",
        "import time\n",
        "a = input('enter a stating number = ')\n",
        "b = input('enter an ending number = ')\n",
        "t0 = time.clock()\n",
        "a = int(a)\n",
        "b = int(b)\n",
        "for i in range(a,b):\n",
        "  if(i%3==0 and i%5==0):\n",
        "    print(\"the number\",i,\"is FizzBuzz\")\n",
        "  else:\n",
        "    if(i%3==0):\n",
        "      print(\"the number\",i,\"is Fizz\")\n",
        "    if(i%5==0):\n",
        "      print(\"the number\",i,\"is Buzz\")\n",
        "    else:\n",
        "      print(\"the number\",i,\"is not a multiple of either 3 or 5\")\n",
        "t1 = time.clock()-t0\n",
        "print(\"the time taken for computing this program = \",t1,\"seconds\")"
      ],
      "execution_count": 6,
      "outputs": [
        {
          "output_type": "stream",
          "text": [
            "enter a stating number = 4\n",
            "enter an ending number = 40\n",
            "the number 4 is not a multiple of either 3 or 5\n",
            "the number 5 is Buzz\n",
            "the number 6 is Fizz\n",
            "the number 6 is not a multiple of either 3 or 5\n",
            "the number 7 is not a multiple of either 3 or 5\n",
            "the number 8 is not a multiple of either 3 or 5\n",
            "the number 9 is Fizz\n",
            "the number 9 is not a multiple of either 3 or 5\n",
            "the number 10 is Buzz\n",
            "the number 11 is not a multiple of either 3 or 5\n",
            "the number 12 is Fizz\n",
            "the number 12 is not a multiple of either 3 or 5\n",
            "the number 13 is not a multiple of either 3 or 5\n",
            "the number 14 is not a multiple of either 3 or 5\n",
            "the number 15 is FizzBuzz\n",
            "the number 16 is not a multiple of either 3 or 5\n",
            "the number 17 is not a multiple of either 3 or 5\n",
            "the number 18 is Fizz\n",
            "the number 18 is not a multiple of either 3 or 5\n",
            "the number 19 is not a multiple of either 3 or 5\n",
            "the number 20 is Buzz\n",
            "the number 21 is Fizz\n",
            "the number 21 is not a multiple of either 3 or 5\n",
            "the number 22 is not a multiple of either 3 or 5\n",
            "the number 23 is not a multiple of either 3 or 5\n",
            "the number 24 is Fizz\n",
            "the number 24 is not a multiple of either 3 or 5\n",
            "the number 25 is Buzz\n",
            "the number 26 is not a multiple of either 3 or 5\n",
            "the number 27 is Fizz\n",
            "the number 27 is not a multiple of either 3 or 5\n",
            "the number 28 is not a multiple of either 3 or 5\n",
            "the number 29 is not a multiple of either 3 or 5\n",
            "the number 30 is FizzBuzz\n",
            "the number 31 is not a multiple of either 3 or 5\n",
            "the number 32 is not a multiple of either 3 or 5\n",
            "the number 33 is Fizz\n",
            "the number 33 is not a multiple of either 3 or 5\n",
            "the number 34 is not a multiple of either 3 or 5\n",
            "the number 35 is Buzz\n",
            "the number 36 is Fizz\n",
            "the number 36 is not a multiple of either 3 or 5\n",
            "the number 37 is not a multiple of either 3 or 5\n",
            "the number 38 is not a multiple of either 3 or 5\n",
            "the number 39 is Fizz\n",
            "the number 39 is not a multiple of either 3 or 5\n",
            "the time taken for computing this program =  0.005952000000000179 seconds\n"
          ],
          "name": "stdout"
        }
      ]
    }
  ]
}